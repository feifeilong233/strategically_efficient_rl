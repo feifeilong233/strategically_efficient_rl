{
 "cells": [
  {
   "cell_type": "code",
   "id": "initial_id",
   "metadata": {
    "collapsed": true,
    "ExecuteTime": {
     "end_time": "2024-09-04T01:31:50.385264Z",
     "start_time": "2024-09-04T01:31:50.367441Z"
    }
   },
   "source": [
    "import nashpy as nash\n",
    "import numpy as np\n",
    "\n",
    "# 定义两个玩家的收益矩阵\n",
    "payoff_matrix1 = np.array([[[1, -1], [-2, 2], [0, 0]],\n",
    "                          [[0, 0], [1, -1], [-1, 1]],\n",
    "                          [[-1, 1], [2, -2], [1, -1]]])\n",
    "\n",
    "payoff_matrix2 = np.array([[[2, -2], [-1, 1], [-3, 3]],\n",
    "                           [[-2, 2], [3, -3], [1, -1]],\n",
    "                           [[-1, 1], [-3, 3], [2, -2]]])\n",
    "\n",
    "payoff_matrix3 = np.array([[[2, 4], [1, 1], [5, 1]],\n",
    "                           [[0, 0], [4, 0], [1, 5]],\n",
    "                           [[4, 1], [3, 3], [2, 2]]])\n",
    "\n",
    "payoff_matrix4 = np.array([[[0.5, 0.5], [0.0, 1.0], [1.0, 0.0]],\n",
    "                           [[1.0, 0.0], [0.5, 0.5], [0.0, 1.0]],\n",
    "                           [[0.0, 1.0], [1.0, 0.0], [0.5, 0.5]]])  # Rock-Paper-Scissors\n",
    "\n",
    "row_payoff_matrix = payoff_matrix2[:, :, 0]\n",
    "column_payoff_matrix = payoff_matrix2[:, :, 1]\n",
    "\n",
    "# 创建一个双人博弈\n",
    "game = nash.Game(row_payoff_matrix, column_payoff_matrix)\n",
    "\n",
    "# 计算所有混合策略纳什均衡\n",
    "equilibria = game.support_enumeration()\n",
    "\n",
    "# 输出博弈矩阵\n",
    "print(\"Game:\")\n",
    "print(game)\n",
    "\n",
    "# 计算并输出行玩家和列玩家的收益\n",
    "for eq in equilibria:\n",
    "    row_strategy, col_strategy = eq\n",
    "    row_payoff = row_strategy @ row_payoff_matrix @ col_strategy\n",
    "    col_payoff = row_strategy @ column_payoff_matrix @ col_strategy\n",
    "\n",
    "    print(f\"\\nEquilibrium strategies:\\nRow player: {row_strategy}\\nColumn player: {col_strategy}\")\n",
    "    print(f\"Expected payoff for Row player: {row_payoff}\")\n",
    "    print(f\"Expected payoff for Column player: {col_payoff}\")\n"
   ],
   "outputs": [
    {
     "name": "stdout",
     "output_type": "stream",
     "text": [
      "Game:\n",
      "Zero sum game with payoff matrices:\n",
      "\n",
      "Row player:\n",
      "[[ 2 -1 -3]\n",
      " [-2  3  1]\n",
      " [-1 -3  2]]\n",
      "\n",
      "Column player:\n",
      "[[-2  1  3]\n",
      " [ 2 -3 -1]\n",
      " [ 1  3 -2]]\n",
      "\n",
      "Equilibrium strategies:\n",
      "Row player: [0.375      0.33928571 0.28571429]\n",
      "Column player: [0.5        0.14285714 0.35714286]\n",
      "Expected payoff for Row player: -0.2142857142857143\n",
      "Expected payoff for Column player: 0.2142857142857143\n"
     ]
    }
   ],
   "execution_count": 19
  },
  {
   "metadata": {},
   "cell_type": "code",
   "outputs": [],
   "execution_count": null,
   "source": "",
   "id": "72674121156d57"
  }
 ],
 "metadata": {
  "kernelspec": {
   "display_name": "Python 3",
   "language": "python",
   "name": "python3"
  },
  "language_info": {
   "codemirror_mode": {
    "name": "ipython",
    "version": 2
   },
   "file_extension": ".py",
   "mimetype": "text/x-python",
   "name": "python",
   "nbconvert_exporter": "python",
   "pygments_lexer": "ipython2",
   "version": "2.7.6"
  }
 },
 "nbformat": 4,
 "nbformat_minor": 5
}
